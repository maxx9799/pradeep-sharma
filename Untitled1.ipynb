{
 "cells": [
  {
   "cell_type": "code",
   "execution_count": null,
   "metadata": {},
   "outputs": [],
   "source": [
    "# condition statement:\n",
    "    #statements\n",
    "#else:\n",
    "    #statements\n",
    "    \n",
    "    \n",
    "    "
   ]
  },
  {
   "cell_type": "code",
   "execution_count": 1,
   "metadata": {},
   "outputs": [
    {
     "name": "stdout",
     "output_type": "stream",
     "text": [
      "True\n"
     ]
    }
   ],
   "source": [
    "print(\"True\") if True else print(\"False\")"
   ]
  },
  {
   "cell_type": "code",
   "execution_count": 3,
   "metadata": {},
   "outputs": [
    {
     "name": "stdout",
     "output_type": "stream",
     "text": [
      "enter any no. :10\n",
      "enter another no. :11\n",
      "the no. a 10 is greater\n"
     ]
    }
   ],
   "source": [
    "a=int(input('enter any no. :'))\n",
    "b=int(input('enter another no. :'))\n",
    "if a>b:\n",
    "    if print(f'the no. a {a} is greater ')\n",
    "    else:\n",
    "    print(f'the no. a {a} is greater')\n"
   ]
  },
  {
   "cell_type": "code",
   "execution_count": 5,
   "metadata": {},
   "outputs": [
    {
     "ename": "SyntaxError",
     "evalue": "invalid syntax (<ipython-input-5-6ae0d11f696b>, line 6)",
     "output_type": "error",
     "traceback": [
      "\u001b[1;36m  File \u001b[1;32m\"<ipython-input-5-6ae0d11f696b>\"\u001b[1;36m, line \u001b[1;32m6\u001b[0m\n\u001b[1;33m    elif i==\"Business\"\u001b[0m\n\u001b[1;37m                      ^\u001b[0m\n\u001b[1;31mSyntaxError\u001b[0m\u001b[1;31m:\u001b[0m invalid syntax\n"
     ]
    }
   ],
   "source": [
    "i=input(\"type of job(Business/Private/Government): \").strip().title()\n",
    "if i== \"Government\": and salary >50000\n",
    "    print(\"u r approved for this job\").tittle() \n",
    "elif i==\"Private\": and salary = 50000\n",
    "    print(\"\")\n",
    "elif i==\"Business\":\n",
    "    salary=int()\n",
    "elif i==\"Government\":\n",
    "    salary=int()\n",
    "    \n",
    "    \n"
   ]
  },
  {
   "cell_type": "code",
   "execution_count": 14,
   "metadata": {},
   "outputs": [
    {
     "name": "stdout",
     "output_type": "stream",
     "text": [
      "length of revtangle: 8\n",
      "breadth of rectangle: 7\n",
      "it's not a perfect square  56\n"
     ]
    }
   ],
   "source": [
    "l=int(input(\"length of revtangle: \"))\n",
    "b=int(input(\"breadth of rectangle: \"))\n",
    "area=l*b\n",
    "if l==b:\n",
    "    print(\"it's a perfect square\")\n",
    "else:\n",
    "    print(\"it's not a perfect square \",area)\n",
    "\n",
    "\n",
    "\n"
   ]
  },
  {
   "cell_type": "code",
   "execution_count": null,
   "metadata": {},
   "outputs": [],
   "source": [
    "Quantity = int(input(\"Enter Quantity : \"))\n",
    "cost = Quantity*100\n",
    "\n",
    "if cost>=1000:\n",
    "    Discount = (cost*10/100)\n",
    "    print(f\"Total Price \", cost*Discount)\n",
    "else:\n",
    "    print(f\"Price Total\", cost)\n"
   ]
  },
  {
   "cell_type": "code",
   "execution_count": 3,
   "metadata": {},
   "outputs": [
    {
     "name": "stdout",
     "output_type": "stream",
     "text": [
      "Enter Quantity : 10\n",
      "Total Price  900.0\n"
     ]
    }
   ],
   "source": [
    "Quantity = int(input(\"Enter Quantity : \"))\n",
    "cost = Quantity*100\n",
    "if cost>=1000:\n",
    "    Discount = (cost*10/100)\n",
    "    print(f\"Total Price \", cost-Discount)\n",
    "else:\n",
    "    print(f\"Price Total\", cost)"
   ]
  },
  {
   "cell_type": "code",
   "execution_count": 5,
   "metadata": {},
   "outputs": [
    {
     "name": "stdout",
     "output_type": "stream",
     "text": [
      "Enter age 1 :20\n",
      "Enter Age : 12\n",
      "Enter Age : 34\n",
      "C is older\n"
     ]
    }
   ],
   "source": [
    "A = int(input(\"Enter age 1 :\"))\n",
    "B = int(input(\"Enter Age : \"))\n",
    "C = int(input(\"Enter Age : \"))\n",
    "if A>B and B>C:\n",
    "    print(f\"A is older\")\n",
    "elif B>C:\n",
    "    print(f\"B is older\")\n",
    "else:\n",
    "    print(f\"C is older\")"
   ]
  },
  {
   "cell_type": "code",
   "execution_count": 3,
   "metadata": {},
   "outputs": [
    {
     "name": "stdout",
     "output_type": "stream",
     "text": [
      "Enter total number of class : 100\n",
      "Enter number of class attended : 80\n",
      "Allowed\n"
     ]
    }
   ],
   "source": [
    "Classes = int(input(\"Enter total number of class : \"))\n",
    "p = int(input(\"Enter number of class attended : \"))\n",
    "P=(Classes/100*p)\n",
    "if P>=75:\n",
    "    print(f\"Allowed\")\n",
    "else:\n",
    "    print(f\"Not Allowed\")"
   ]
  },
  {
   "cell_type": "code",
   "execution_count": null,
   "metadata": {},
   "outputs": [],
   "source": []
  },
  {
   "cell_type": "code",
   "execution_count": 11,
   "metadata": {},
   "outputs": [
    {
     "ename": "SyntaxError",
     "evalue": "invalid syntax (<ipython-input-11-8f4ba722b211>, line 2)",
     "output_type": "error",
     "traceback": [
      "\u001b[1;36m  File \u001b[1;32m\"<ipython-input-11-8f4ba722b211>\"\u001b[1;36m, line \u001b[1;32m2\u001b[0m\n\u001b[1;33m    if Char=\"string\"\u001b[0m\n\u001b[1;37m           ^\u001b[0m\n\u001b[1;31mSyntaxError\u001b[0m\u001b[1;31m:\u001b[0m invalid syntax\n"
     ]
    }
   ],
   "source": [
    "Char = (input(\"Enter : \"))\n",
    "if Char.\n",
    "    print(f\"Alphabet\")\n",
    "else:\n",
    "    print(f\"Not an Alphabet\")\n",
    "    "
   ]
  },
  {
   "cell_type": "code",
   "execution_count": 1,
   "metadata": {},
   "outputs": [],
   "source": [
    "i=0\n",
    "while i>=100:\n",
    "    if i%2==0:\n",
    "        print(c)"
   ]
  },
  {
   "cell_type": "code",
   "execution_count": 9,
   "metadata": {},
   "outputs": [
    {
     "name": "stdout",
     "output_type": "stream",
     "text": [
      "enter any number :5\n",
      "5*1=5\n",
      "5*2=10\n",
      "5*3=15\n",
      "5*4=20\n",
      "5*5=25\n",
      "5*6=30\n",
      "5*7=35\n",
      "5*8=40\n",
      "5*9=45\n",
      "5*10=50\n"
     ]
    }
   ],
   "source": [
    "num=int(input(\"enter any number :\"))\n",
    "c=1\n",
    "while c<=10:\n",
    "    print(f\"{num}*{c}={num*c}\")\n",
    "    c+=1"
   ]
  },
  {
   "cell_type": "code",
   "execution_count": null,
   "metadata": {},
   "outputs": [],
   "source": []
  }
 ],
 "metadata": {
  "kernelspec": {
   "display_name": "Python 3",
   "language": "python",
   "name": "python3"
  },
  "language_info": {
   "codemirror_mode": {
    "name": "ipython",
    "version": 3
   },
   "file_extension": ".py",
   "mimetype": "text/x-python",
   "name": "python",
   "nbconvert_exporter": "python",
   "pygments_lexer": "ipython3",
   "version": "3.7.3"
  }
 },
 "nbformat": 4,
 "nbformat_minor": 2
}
